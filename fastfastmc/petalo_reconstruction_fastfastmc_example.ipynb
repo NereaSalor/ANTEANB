{
 "cells": [
  {
   "cell_type": "markdown",
   "metadata": {},
   "source": [
    "# PETALO reconstruction: fast-fast MC full chain\n",
    "This notebook describes how to perform PETALO 3D-PET reconstruction using fast-fast MC.<br>"
   ]
  },
  {
   "cell_type": "code",
   "execution_count": 1,
   "metadata": {},
   "outputs": [],
   "source": [
    "# Add the line below so that plots will appear inline in the notebook.\n",
    "%matplotlib inline\n",
    "\n",
    "import os\n",
    "import matplotlib.pyplot as plt\n",
    "import numpy  as np\n",
    "\n",
    "import antea.mcsim.errmat as emat\n",
    "import antea.mcsim.phantom as ph\n",
    "import antea.mcsim.fastfastmc as ffmc\n",
    "import antea.reco.petalo_reconstruct as preco"
   ]
  },
  {
   "cell_type": "code",
   "execution_count": 2,
   "metadata": {},
   "outputs": [],
   "source": [
    "ANTEADIR = os.environ[\"ANTEADIR\"]\n",
    "ANTEADATADIR = ANTEADIR + \"testdata\""
   ]
  },
  {
   "cell_type": "markdown",
   "metadata": {},
   "source": [
    "## Run the fast-fast MC to generate events for a NEMA phantom"
   ]
  },
  {
   "cell_type": "code",
   "execution_count": 3,
   "metadata": {},
   "outputs": [
    {
     "name": "stdout",
     "output_type": "stream",
     "text": [
      "Done 0 events\n",
      "Done 100000 events\n",
      "Done 200000 events\n",
      "Done 300000 events\n",
      "Done 400000 events\n",
      "Done 500000 events\n",
      "Done 600000 events\n",
      "Done 700000 events\n",
      "Done 800000 events\n",
      "Done 900000 events\n"
     ]
    }
   ],
   "source": [
    "Nevts = 1000000\n",
    "\n",
    "# Construct the phantom object.\n",
    "PATH_PHANTOM = os.path.join(ANTEADATADIR, 'phantom_NEMAlike.npz')\n",
    "phtm = ph.phantom(PATH_PHANTOM)\n",
    "\n",
    "# Construct the error matrix objects.\n",
    "PATH_ERRMAT_R = os.path.join(ANTEADATADIR, 'errmat_r.npz')\n",
    "errmat_r = emat.errmat(PATH_ERRMAT_R)\n",
    "PATH_ERRMAT_PHI = os.path.join(ANTEADATADIR, 'errmat_phi.npz')\n",
    "errmat_phi = emat.errmat(PATH_ERRMAT_PHI)\n",
    "PATH_ERRMAT_Z = os.path.join(ANTEADATADIR, 'errmat_z.npz')\n",
    "errmat_z = emat.errmat(PATH_ERRMAT_Z)\n",
    "\n",
    "# Run the simulation.\n",
    "events = ffmc.run_fastfastmc(Nevts, phtm, errmat_r, errmat_phi, errmat_z)"
   ]
  },
  {
   "cell_type": "code",
   "execution_count": 4,
   "metadata": {},
   "outputs": [],
   "source": [
    "# Prepare the events.\n",
    "r1 = events[\"reco_r1\"].values; r2 = events[\"reco_r2\"].values\n",
    "phi1 = events[\"reco_phi1\"]; phi2 = events[\"reco_phi2\"].values\n",
    "\n",
    "lor_x1 = r1*np.cos(phi1); lor_y1 = r1*np.sin(phi1); lor_z1 = events[\"reco_z1\"].values; lor_t1 = events[\"true_t1\"].values\n",
    "lor_x2 = r2*np.cos(phi2); lor_y2 = r2*np.sin(phi2); lor_z2 = events[\"reco_z2\"].values; lor_t2 = events[\"true_t2\"].values"
   ]
  },
  {
   "cell_type": "markdown",
   "metadata": {},
   "source": [
    "## Perform the 3D PET reconstruction"
   ]
  },
  {
   "cell_type": "code",
   "execution_count": 5,
   "metadata": {},
   "outputs": [],
   "source": [
    "# Reconstruct the image.\n",
    "rec = preco.PetaloReconstructor(libdir=\"{}/../../anteacpp/libPETALO.so\".format(ANTEADATADIR))\n",
    "rec.TOF_resolution = 200\n",
    "rec.niterations = 5\n",
    "img = rec.reconstruct(lor_x1, lor_y1, lor_z1, lor_t1, lor_x2, lor_y2, lor_z2, lor_t2)"
   ]
  },
  {
   "cell_type": "code",
   "execution_count": 6,
   "metadata": {},
   "outputs": [
    {
     "data": {
      "text/plain": [
       "Text(0, 0.5, 'y (mm)')"
      ]
     },
     "execution_count": 6,
     "metadata": {},
     "output_type": "execute_result"
    },
    {
     "data": {
      "image/png": "[encoded data removed]",
      "text/plain": [
       "<Figure size 432x288 with 2 Axes>"
      ]
     },
     "metadata": {
      "needs_background": "light"
     },
     "output_type": "display_data"
    }
   ],
   "source": [
    "# Plot the reconstructed image (take a central slice).\n",
    "plt.imshow(img[:,:,29].transpose(),extent=[0,180,0,180],origin='lower')\n",
    "plt.colorbar()\n",
    "plt.xlabel(\"x (mm)\")\n",
    "plt.ylabel(\"y (mm)\")"
   ]
  },
  {
   "cell_type": "code",
   "execution_count": null,
   "metadata": {},
   "outputs": [],
   "source": []
  }
 ],
 "metadata": {
  "kernelspec": {
   "display_name": "Python 3",
   "language": "python",
   "name": "python3"
  },
  "language_info": {
   "codemirror_mode": {
    "name": "ipython",
    "version": 3
   },
   "file_extension": ".py",
   "mimetype": "text/x-python",
   "name": "python",
   "nbconvert_exporter": "python",
   "pygments_lexer": "ipython3",
   "version": "3.7.2"
  }
 },
 "nbformat": 4,
 "nbformat_minor": 2
}
