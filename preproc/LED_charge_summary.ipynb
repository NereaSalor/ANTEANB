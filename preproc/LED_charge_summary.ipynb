{
 "cells": [
  {
   "cell_type": "markdown",
   "id": "6f5fe18b",
   "metadata": {},
   "source": [
    "# TOFPET charge with LEDs"
   ]
  },
  {
   "cell_type": "code",
   "execution_count": 1,
   "id": "3a57c6cb",
   "metadata": {},
   "outputs": [],
   "source": [
    "import pandas as pd\n",
    "import numpy as np\n",
    "from glob import glob\n",
    "import matplotlib.pylab as plt\n",
    "from matplotlib import colors\n",
    "%matplotlib inline"
   ]
  },
  {
   "cell_type": "markdown",
   "id": "ca0833dd",
   "metadata": {},
   "source": [
    "# Process Data"
   ]
  },
  {
   "cell_type": "code",
   "execution_count": 2,
   "id": "6072a7b1",
   "metadata": {},
   "outputs": [
    {
     "data": {
      "text/plain": [
       "['/analysis/11902/hdf5/proc/linear_interp/files/run_11902_0000_trigger1_waveforms.h5']"
      ]
     },
     "execution_count": 2,
     "metadata": {},
     "output_type": "execute_result"
    }
   ],
   "source": [
    "files = glob('/analysis/11902/hdf5/proc/linear_interp/files/*h5')\n",
    "files.sort()\n",
    "files"
   ]
  },
  {
   "cell_type": "code",
   "execution_count": 3,
   "id": "03e3db70",
   "metadata": {},
   "outputs": [
    {
     "data": {
      "text/plain": [
       "['/data_0', '/data_1']"
      ]
     },
     "execution_count": 3,
     "metadata": {},
     "output_type": "execute_result"
    }
   ],
   "source": [
    "store = pd.HDFStore(files[0], 'r')\n",
    "store.keys()"
   ]
  },
  {
   "cell_type": "code",
   "execution_count": 4,
   "id": "82f2d125",
   "metadata": {},
   "outputs": [
    {
     "data": {
      "text/html": [
       "<div>\n",
       "<style scoped>\n",
       "    .dataframe tbody tr th:only-of-type {\n",
       "        vertical-align: middle;\n",
       "    }\n",
       "\n",
       "    .dataframe tbody tr th {\n",
       "        vertical-align: top;\n",
       "    }\n",
       "\n",
       "    .dataframe thead th {\n",
       "        text-align: right;\n",
       "    }\n",
       "</style>\n",
       "<table border=\"1\" class=\"dataframe\">\n",
       "  <thead>\n",
       "    <tr style=\"text-align: right;\">\n",
       "      <th></th>\n",
       "      <th>evt_number</th>\n",
       "      <th>ctdaq</th>\n",
       "      <th>ct_data</th>\n",
       "      <th>tofpet_id</th>\n",
       "      <th>channel_id</th>\n",
       "      <th>sensor_id</th>\n",
       "      <th>tac_id</th>\n",
       "      <th>tcoarse</th>\n",
       "      <th>ecoarse</th>\n",
       "      <th>tfine</th>\n",
       "      <th>efine</th>\n",
       "      <th>intg_w</th>\n",
       "      <th>efine_corrected</th>\n",
       "    </tr>\n",
       "  </thead>\n",
       "  <tbody>\n",
       "    <tr>\n",
       "      <th>0</th>\n",
       "      <td>1</td>\n",
       "      <td>3244697314</td>\n",
       "      <td>6</td>\n",
       "      <td>0</td>\n",
       "      <td>63</td>\n",
       "      <td>67</td>\n",
       "      <td>3</td>\n",
       "      <td>5763</td>\n",
       "      <td>723</td>\n",
       "      <td>277</td>\n",
       "      <td>224</td>\n",
       "      <td>80</td>\n",
       "      <td>7.0</td>\n",
       "    </tr>\n",
       "    <tr>\n",
       "      <th>1</th>\n",
       "      <td>1</td>\n",
       "      <td>3244697314</td>\n",
       "      <td>6</td>\n",
       "      <td>0</td>\n",
       "      <td>28</td>\n",
       "      <td>14</td>\n",
       "      <td>2</td>\n",
       "      <td>46880</td>\n",
       "      <td>880</td>\n",
       "      <td>344</td>\n",
       "      <td>189</td>\n",
       "      <td>80</td>\n",
       "      <td>7.8</td>\n",
       "    </tr>\n",
       "    <tr>\n",
       "      <th>2</th>\n",
       "      <td>1</td>\n",
       "      <td>3244697314</td>\n",
       "      <td>7</td>\n",
       "      <td>0</td>\n",
       "      <td>32</td>\n",
       "      <td>84</td>\n",
       "      <td>2</td>\n",
       "      <td>32391</td>\n",
       "      <td>727</td>\n",
       "      <td>248</td>\n",
       "      <td>196</td>\n",
       "      <td>80</td>\n",
       "      <td>7.6</td>\n",
       "    </tr>\n",
       "    <tr>\n",
       "      <th>3</th>\n",
       "      <td>1</td>\n",
       "      <td>3244697314</td>\n",
       "      <td>7</td>\n",
       "      <td>0</td>\n",
       "      <td>50</td>\n",
       "      <td>82</td>\n",
       "      <td>1</td>\n",
       "      <td>32848</td>\n",
       "      <td>160</td>\n",
       "      <td>274</td>\n",
       "      <td>196</td>\n",
       "      <td>80</td>\n",
       "      <td>7.6</td>\n",
       "    </tr>\n",
       "    <tr>\n",
       "      <th>4</th>\n",
       "      <td>1</td>\n",
       "      <td>3244697314</td>\n",
       "      <td>7</td>\n",
       "      <td>0</td>\n",
       "      <td>11</td>\n",
       "      <td>18</td>\n",
       "      <td>1</td>\n",
       "      <td>48621</td>\n",
       "      <td>573</td>\n",
       "      <td>254</td>\n",
       "      <td>158</td>\n",
       "      <td>80</td>\n",
       "      <td>8.0</td>\n",
       "    </tr>\n",
       "    <tr>\n",
       "      <th>...</th>\n",
       "      <td>...</td>\n",
       "      <td>...</td>\n",
       "      <td>...</td>\n",
       "      <td>...</td>\n",
       "      <td>...</td>\n",
       "      <td>...</td>\n",
       "      <td>...</td>\n",
       "      <td>...</td>\n",
       "      <td>...</td>\n",
       "      <td>...</td>\n",
       "      <td>...</td>\n",
       "      <td>...</td>\n",
       "      <td>...</td>\n",
       "    </tr>\n",
       "    <tr>\n",
       "      <th>499953</th>\n",
       "      <td>13172</td>\n",
       "      <td>1711773555</td>\n",
       "      <td>10</td>\n",
       "      <td>0</td>\n",
       "      <td>37</td>\n",
       "      <td>52</td>\n",
       "      <td>2</td>\n",
       "      <td>2536</td>\n",
       "      <td>568</td>\n",
       "      <td>298</td>\n",
       "      <td>156</td>\n",
       "      <td>80</td>\n",
       "      <td>8.2</td>\n",
       "    </tr>\n",
       "    <tr>\n",
       "      <th>499954</th>\n",
       "      <td>13172</td>\n",
       "      <td>1711773555</td>\n",
       "      <td>10</td>\n",
       "      <td>0</td>\n",
       "      <td>8</td>\n",
       "      <td>31</td>\n",
       "      <td>3</td>\n",
       "      <td>4510</td>\n",
       "      <td>494</td>\n",
       "      <td>202</td>\n",
       "      <td>237</td>\n",
       "      <td>80</td>\n",
       "      <td>5.2</td>\n",
       "    </tr>\n",
       "    <tr>\n",
       "      <th>499955</th>\n",
       "      <td>13172</td>\n",
       "      <td>1711773555</td>\n",
       "      <td>10</td>\n",
       "      <td>0</td>\n",
       "      <td>47</td>\n",
       "      <td>62</td>\n",
       "      <td>2</td>\n",
       "      <td>5115</td>\n",
       "      <td>75</td>\n",
       "      <td>219</td>\n",
       "      <td>133</td>\n",
       "      <td>80</td>\n",
       "      <td>5.0</td>\n",
       "    </tr>\n",
       "    <tr>\n",
       "      <th>499956</th>\n",
       "      <td>13172</td>\n",
       "      <td>1711773555</td>\n",
       "      <td>10</td>\n",
       "      <td>0</td>\n",
       "      <td>1</td>\n",
       "      <td>46</td>\n",
       "      <td>3</td>\n",
       "      <td>17279</td>\n",
       "      <td>975</td>\n",
       "      <td>285</td>\n",
       "      <td>214</td>\n",
       "      <td>80</td>\n",
       "      <td>7.8</td>\n",
       "    </tr>\n",
       "    <tr>\n",
       "      <th>499957</th>\n",
       "      <td>13172</td>\n",
       "      <td>1711773555</td>\n",
       "      <td>10</td>\n",
       "      <td>0</td>\n",
       "      <td>59</td>\n",
       "      <td>85</td>\n",
       "      <td>0</td>\n",
       "      <td>35022</td>\n",
       "      <td>286</td>\n",
       "      <td>224</td>\n",
       "      <td>179</td>\n",
       "      <td>80</td>\n",
       "      <td>3.6</td>\n",
       "    </tr>\n",
       "  </tbody>\n",
       "</table>\n",
       "<p>499958 rows × 13 columns</p>\n",
       "</div>"
      ],
      "text/plain": [
       "        evt_number       ctdaq  ct_data  tofpet_id  channel_id  sensor_id  \\\n",
       "0                1  3244697314        6          0          63         67   \n",
       "1                1  3244697314        6          0          28         14   \n",
       "2                1  3244697314        7          0          32         84   \n",
       "3                1  3244697314        7          0          50         82   \n",
       "4                1  3244697314        7          0          11         18   \n",
       "...            ...         ...      ...        ...         ...        ...   \n",
       "499953       13172  1711773555       10          0          37         52   \n",
       "499954       13172  1711773555       10          0           8         31   \n",
       "499955       13172  1711773555       10          0          47         62   \n",
       "499956       13172  1711773555       10          0           1         46   \n",
       "499957       13172  1711773555       10          0          59         85   \n",
       "\n",
       "        tac_id  tcoarse  ecoarse  tfine  efine  intg_w  efine_corrected  \n",
       "0            3     5763      723    277    224      80              7.0  \n",
       "1            2    46880      880    344    189      80              7.8  \n",
       "2            2    32391      727    248    196      80              7.6  \n",
       "3            1    32848      160    274    196      80              7.6  \n",
       "4            1    48621      573    254    158      80              8.0  \n",
       "...        ...      ...      ...    ...    ...     ...              ...  \n",
       "499953       2     2536      568    298    156      80              8.2  \n",
       "499954       3     4510      494    202    237      80              5.2  \n",
       "499955       2     5115       75    219    133      80              5.0  \n",
       "499956       3    17279      975    285    214      80              7.8  \n",
       "499957       0    35022      286    224    179      80              3.6  \n",
       "\n",
       "[499958 rows x 13 columns]"
      ]
     },
     "execution_count": 4,
     "metadata": {},
     "output_type": "execute_result"
    }
   ],
   "source": [
    "df = pd.read_hdf(files[0],'data_0')\n",
    "df"
   ]
  },
  {
   "cell_type": "markdown",
   "id": "291659a1",
   "metadata": {},
   "source": [
    "**Check tofpet_id, channels_id and integration window size**"
   ]
  },
  {
   "cell_type": "code",
   "execution_count": 157,
   "id": "3ed352e6",
   "metadata": {},
   "outputs": [
    {
     "data": {
      "text/plain": [
       "array([0], dtype=uint8)"
      ]
     },
     "execution_count": 157,
     "metadata": {},
     "output_type": "execute_result"
    }
   ],
   "source": [
    "df.tofpet_id.unique()"
   ]
  },
  {
   "cell_type": "code",
   "execution_count": 5,
   "id": "b8494d7f",
   "metadata": {},
   "outputs": [
    {
     "data": {
      "text/plain": [
       "Text(0, 0.5, 'Entries')"
      ]
     },
     "execution_count": 5,
     "metadata": {},
     "output_type": "execute_result"
    },
    {
     "data": {
      "image/png": "[encoded data removed]",
      "text/plain": [
       "<Figure size 432x288 with 1 Axes>"
      ]
     },
     "metadata": {
      "needs_background": "light"
     },
     "output_type": "display_data"
    }
   ],
   "source": [
    "df.channel_id.hist(bins = 64)\n",
    "plt.title('Channels')\n",
    "plt.xlabel('channel_id')\n",
    "plt.ylabel('Entries')"
   ]
  },
  {
   "cell_type": "code",
   "execution_count": 7,
   "id": "644a6d92",
   "metadata": {},
   "outputs": [
    {
     "name": "stdout",
     "output_type": "stream",
     "text": [
      "There are  82  different integration windows:\n",
      "[ 79  80  83  95 101 105 108 110 111 112 113 114 115 116 117 118 119 120\n",
      " 121 122 124 126 128 129 130 131 132 133 134 135 136 139 140 141 142 144\n",
      " 147 148 151 152 154 156 157 160 161 163 164 169 171 172 173 176 177 181\n",
      " 182 191 195 199 203 210 211 213 215 222 223 225 233 235 237 241 244 246\n",
      " 254 270 286 288 292 294 300 302 312 525]\n"
     ]
    },
    {
     "data": {
      "image/png": "[encoded data removed]",
      "text/plain": [
       "<Figure size 432x288 with 1 Axes>"
      ]
     },
     "metadata": {
      "needs_background": "light"
     },
     "output_type": "display_data"
    }
   ],
   "source": [
    "df.intg_w.hist(bins = 100)\n",
    "plt.title('Integration window for all channels')\n",
    "plt.xlabel('Integration window')\n",
    "plt.ylabel('Entries')\n",
    "plt.yscale('log')\n",
    "\n",
    "intg_w_unique = df.intg_w.unique()\n",
    "intg_w_unique.sort()\n",
    "print('There are ', len(intg_w_unique), ' different integration windows:')\n",
    "print(intg_w_unique)"
   ]
  },
  {
   "cell_type": "markdown",
   "id": "b61cead6",
   "metadata": {},
   "source": [
    "# Studying all channels"
   ]
  },
  {
   "cell_type": "markdown",
   "id": "c7b3a713",
   "metadata": {},
   "source": [
    "**Efine corrected for all channels**"
   ]
  },
  {
   "cell_type": "code",
   "execution_count": 8,
   "id": "ac6ec94a",
   "metadata": {},
   "outputs": [
    {
     "data": {
      "text/plain": [
       "<matplotlib.legend.Legend at 0x7f77aa2b7af0>"
      ]
     },
     "execution_count": 8,
     "metadata": {},
     "output_type": "execute_result"
    },
    {
     "data": {
      "image/png": "[encoded data removed]",
      "text/plain": [
       "<Figure size 936x288 with 2 Axes>"
      ]
     },
     "metadata": {
      "needs_background": "light"
     },
     "output_type": "display_data"
    }
   ],
   "source": [
    "fig, (ax1, ax2) = plt.subplots(1, 2, figsize=(13,4))\n",
    "\n",
    "fig.suptitle('Efine corrected for all channels')\n",
    "ax1.hist(df.efine_corrected, bins = 100, label = 'log')\n",
    "ax1.set_yscale('log')\n",
    "ax1.set_xlabel('Efine corrected')\n",
    "ax1.set_ylabel('Entries')\n",
    "ax1.legend()\n",
    "\n",
    "ax2.hist(df.efine_corrected, bins = 100, label = 'linear')\n",
    "ax2.set_xlabel('Efine corrected')\n",
    "ax2.set_ylabel('Entries')\n",
    "ax2.legend()"
   ]
  },
  {
   "cell_type": "markdown",
   "id": "529366ca",
   "metadata": {},
   "source": [
    "**Efine corrected for all channels selecting the fixed integration window size**"
   ]
  },
  {
   "cell_type": "code",
   "execution_count": 9,
   "id": "17756146",
   "metadata": {},
   "outputs": [
    {
     "data": {
      "text/plain": [
       "<matplotlib.legend.Legend at 0x7f77aa117190>"
      ]
     },
     "execution_count": 9,
     "metadata": {},
     "output_type": "execute_result"
    },
    {
     "data": {
      "image/png": "[encoded data removed]",
      "text/plain": [
       "<Figure size 432x288 with 1 Axes>"
      ]
     },
     "metadata": {
      "needs_background": "light"
     },
     "output_type": "display_data"
    }
   ],
   "source": [
    "df[(df['intg_w'] < 85) & (df['intg_w'] > 75)].efine_corrected.hist(bins = 100, alpha = 0.5,label = 'Correct intg_w')\n",
    "df[(df['intg_w'] > 85)].efine_corrected.hist(bins = 100, alpha = 0.5, label = 'Wrong intg_w')\n",
    "\n",
    "plt.yscale('log')\n",
    "plt.xlabel('Efine corrected')\n",
    "plt.ylabel('Entries')\n",
    "plt.legend()"
   ]
  },
  {
   "cell_type": "markdown",
   "id": "ad819c08",
   "metadata": {},
   "source": [
    "# Studying central channels"
   ]
  },
  {
   "cell_type": "markdown",
   "id": "6eea67bc",
   "metadata": {},
   "source": [
    "**Integration window for central channels**"
   ]
  },
  {
   "cell_type": "code",
   "execution_count": 13,
   "id": "76aec5e9",
   "metadata": {},
   "outputs": [
    {
     "data": {
      "image/png": "[encoded data removed]",
      "text/plain": [
       "<Figure size 432x288 with 1 Axes>"
      ]
     },
     "metadata": {
      "needs_background": "light"
     },
     "output_type": "display_data"
    }
   ],
   "source": [
    "df[df['channel_id'] == 31].intg_w.hist(bins = 100, label = 'channel 31', alpha = 0.5)\n",
    "df[df['channel_id'] ==  5].intg_w.hist(bins = 100, label = 'channel  5', alpha = 0.5)\n",
    "df[df['channel_id'] == 40].intg_w.hist(bins = 100, label = 'channel 40', alpha = 0.5)\n",
    "df[df['channel_id'] == 35].intg_w.hist(bins = 100, label = 'channel 35', alpha = 0.5)\n",
    "\n",
    "plt.legend()\n",
    "plt.title('Integration window for central channels')\n",
    "plt.xlabel('Integration window')\n",
    "plt.ylabel('Entries')\n",
    "plt.yscale('log')"
   ]
  },
  {
   "cell_type": "markdown",
   "id": "8fd23d8b",
   "metadata": {},
   "source": [
    "**Efine corrected for central channels**"
   ]
  },
  {
   "cell_type": "code",
   "execution_count": 12,
   "id": "67612196",
   "metadata": {},
   "outputs": [
    {
     "data": {
      "image/png": "[encoded data removed]",
      "text/plain": [
       "<Figure size 432x288 with 1 Axes>"
      ]
     },
     "metadata": {
      "needs_background": "light"
     },
     "output_type": "display_data"
    }
   ],
   "source": [
    "df[df['channel_id'] == 31].efine_corrected.hist(bins = 100, label = 'channel 31', alpha = 0.5)\n",
    "df[df['channel_id'] ==  5].efine_corrected.hist(bins = 100, label = 'channel  5', alpha = 0.5)\n",
    "df[df['channel_id'] == 40].efine_corrected.hist(bins =  80, label = 'channel 40', alpha = 0.5)\n",
    "df[df['channel_id'] == 35].efine_corrected.hist(bins =  40, label = 'channel 35', alpha = 0.5)\n",
    "\n",
    "plt.legend()\n",
    "plt.title('Efine corrected for central channels')\n",
    "plt.xlabel('Efine corrected')\n",
    "plt.ylabel('Entries')\n",
    "plt.yscale('log')"
   ]
  },
  {
   "cell_type": "markdown",
   "id": "b89ae67e",
   "metadata": {},
   "source": [
    "# Studying corner channels"
   ]
  },
  {
   "cell_type": "markdown",
   "id": "c0e7ebb2",
   "metadata": {},
   "source": [
    "**Integration window for corner channels**"
   ]
  },
  {
   "cell_type": "code",
   "execution_count": 14,
   "id": "dcc4cffd",
   "metadata": {},
   "outputs": [
    {
     "data": {
      "text/plain": [
       "<matplotlib.legend.Legend at 0x7f77a9b18b50>"
      ]
     },
     "execution_count": 14,
     "metadata": {},
     "output_type": "execute_result"
    },
    {
     "data": {
      "image/png": "[encoded data removed]",
      "text/plain": [
       "<Figure size 432x288 with 1 Axes>"
      ]
     },
     "metadata": {
      "needs_background": "light"
     },
     "output_type": "display_data"
    }
   ],
   "source": [
    "df[df['channel_id'] == 10].intg_w.hist(bins = 100, label = 'top-left 10', alpha = 0.5)\n",
    "df[df['channel_id'] == 24].intg_w.hist(bins = 200, label = 'top-right 24', alpha = 0.5)\n",
    "df[df['channel_id'] == 51].intg_w.hist(bins = 100, label = 'bottom-left 51', alpha = 0.5)\n",
    "df[df['channel_id'] == 56].intg_w.hist(bins = 100, label = 'bottom-right 56', alpha = 0.5)\n",
    "\n",
    "plt.title('Integration window size for corner channels')\n",
    "plt.xlabel('Integration window')\n",
    "plt.ylabel('Entries')\n",
    "plt.yscale('log')\n",
    "plt.legend()"
   ]
  },
  {
   "cell_type": "markdown",
   "id": "944bc267",
   "metadata": {},
   "source": [
    "**Efine corrected for corner channels**"
   ]
  },
  {
   "cell_type": "code",
   "execution_count": 15,
   "id": "0825b278",
   "metadata": {},
   "outputs": [
    {
     "data": {
      "text/plain": [
       "<matplotlib.legend.Legend at 0x7f77a96fc310>"
      ]
     },
     "execution_count": 15,
     "metadata": {},
     "output_type": "execute_result"
    },
    {
     "data": {
      "image/png": "[encoded data removed]",
      "text/plain": [
       "<Figure size 432x288 with 1 Axes>"
      ]
     },
     "metadata": {
      "needs_background": "light"
     },
     "output_type": "display_data"
    }
   ],
   "source": [
    "df[df['channel_id'] == 10].efine_corrected.hist(bins = 200, label = 'top-left 10', alpha = 0.5)\n",
    "df[df['channel_id'] == 24].efine_corrected.hist(bins = 100, label = 'top-right 24', alpha = 0.5)\n",
    "df[df['channel_id'] == 51].efine_corrected.hist(bins =  50, label = 'bottom-left 51', alpha = 0.5)\n",
    "df[df['channel_id'] == 56].efine_corrected.hist(bins = 100, label = 'bottom-right 56', alpha = 0.5)\n",
    "\n",
    "plt.title('Efine corrected for corner channels')\n",
    "plt.xlabel('Efine corrected')\n",
    "plt.ylabel('Entries')\n",
    "plt.yscale('log')\n",
    "plt.legend()"
   ]
  },
  {
   "cell_type": "markdown",
   "id": "2434bfc6",
   "metadata": {},
   "source": [
    "# **Colour map variables**"
   ]
  },
  {
   "cell_type": "code",
   "execution_count": 16,
   "id": "38defc52",
   "metadata": {},
   "outputs": [
    {
     "name": "stdout",
     "output_type": "stream",
     "text": [
      "Number of sensors:  64\n"
     ]
    }
   ],
   "source": [
    "df_filtered = df[(df['intg_w'] > 75) & (df['intg_w'] < 85)]\n",
    "print('Number of sensors: ',len(df_filtered.sensor_id.unique()))"
   ]
  },
  {
   "cell_type": "code",
   "execution_count": 34,
   "id": "79cbcec3",
   "metadata": {},
   "outputs": [
    {
     "data": {
      "text/plain": [
       "Text(0.5, 1.0, 'Efine corrected for channel 34')"
      ]
     },
     "execution_count": 34,
     "metadata": {},
     "output_type": "execute_result"
    },
    {
     "data": {
      "image/png": "[encoded data removed]",
      "text/plain": [
       "<Figure size 432x288 with 1 Axes>"
      ]
     },
     "metadata": {
      "needs_background": "light"
     },
     "output_type": "display_data"
    }
   ],
   "source": [
    "plt.hist(df_filtered[df_filtered['channel_id'] == 34].efine_corrected, bins = 50)\n",
    "plt.xlabel('Efine corrected')\n",
    "plt.ylabel('Entries')\n",
    "plt.title('Efine corrected for channel 34')"
   ]
  },
  {
   "cell_type": "code",
   "execution_count": 35,
   "id": "5606b8b6",
   "metadata": {},
   "outputs": [],
   "source": [
    "def filtered_mean(df):\n",
    "    '''In each channel we have got two well differentiated \n",
    "    distributions. With this function, we filter the gaussian\n",
    "    which is due to LED contribution only.'''\n",
    "    \n",
    "    mean_vector = 0\n",
    "    if df.mean() > 30:\n",
    "        mean_vector = df[df > 30].mean()\n",
    "    elif df.mean() < 30:\n",
    "        mean_vector = df.mean()\n",
    "        \n",
    "    return mean_vector\n",
    "        "
   ]
  },
  {
   "cell_type": "code",
   "execution_count": 36,
   "id": "4b6fb275",
   "metadata": {},
   "outputs": [],
   "source": [
    "channel_sums  = df_filtered.groupby('sensor_id')['efine_corrected'].sum().reset_index()\n",
    "charge_sum    = np.array(channel_sums['efine_corrected']).reshape(8,8)\n",
    "\n",
    "channel_means = df_filtered.groupby('sensor_id')['efine_corrected'].apply(filtered_mean).reset_index()\n",
    "charge_mean   = np.array(channel_means['efine_corrected']).reshape(8,8)"
   ]
  },
  {
   "cell_type": "code",
   "execution_count": 37,
   "id": "e68d0579",
   "metadata": {},
   "outputs": [
    {
     "data": {
      "text/plain": [
       "78.06400937422241"
      ]
     },
     "execution_count": 37,
     "metadata": {},
     "output_type": "execute_result"
    }
   ],
   "source": [
    "channel_means.efine_corrected.mean()"
   ]
  },
  {
   "cell_type": "markdown",
   "id": "5a5ea22a",
   "metadata": {},
   "source": [
    "**Sum of the charge per channel**"
   ]
  },
  {
   "cell_type": "code",
   "execution_count": 38,
   "id": "f61a3a12",
   "metadata": {},
   "outputs": [
    {
     "data": {
      "image/png": "[encoded data removed]",
      "text/plain": [
       "<Figure size 720x432 with 2 Axes>"
      ]
     },
     "metadata": {
      "needs_background": "light"
     },
     "output_type": "display_data"
    }
   ],
   "source": [
    "fig, ax = plt.subplots(figsize=(10, 6))\n",
    "ax      = plt.imshow(charge_sum)\n",
    "\n",
    "cbar    = plt.colorbar()\n",
    "cbar.set_label('Total charge sum', fontsize = 14)\n",
    "\n",
    "plt.xlabel('Position sensor x', fontsize = 14)\n",
    "plt.xticks(np.arange(0, 8, 1))\n",
    "plt.ylabel('Position sensor y', fontsize = 14)\n",
    "plt.yticks(np.arange(0, 8, 1))\n",
    "\n",
    "plt.gca().xaxis.set_label_position('top')\n",
    "plt.gca().xaxis.tick_top()"
   ]
  },
  {
   "cell_type": "markdown",
   "id": "f675ce58",
   "metadata": {},
   "source": [
    "**Mean charge per channel**"
   ]
  },
  {
   "cell_type": "code",
   "execution_count": 39,
   "id": "4466ab0b",
   "metadata": {},
   "outputs": [
    {
     "data": {
      "image/png": "[encoded data removed]",
      "text/plain": [
       "<Figure size 720x432 with 2 Axes>"
      ]
     },
     "metadata": {
      "needs_background": "light"
     },
     "output_type": "display_data"
    }
   ],
   "source": [
    "fig, ax = plt.subplots(figsize=(10, 6))\n",
    "ax      = plt.imshow(charge_mean)\n",
    "\n",
    "cbar    = plt.colorbar()\n",
    "cbar.set_label('Mean charge (efine corrected)', fontsize = 14)\n",
    "\n",
    "plt.xlabel('Position sensor x', fontsize = 14)\n",
    "plt.xticks(np.arange(0, 8, 1))\n",
    "plt.ylabel('Position sensor y', fontsize = 14)\n",
    "plt.yticks(np.arange(0, 8, 1))\n",
    "\n",
    "plt.gca().xaxis.set_label_position('top')\n",
    "plt.gca().xaxis.tick_top()"
   ]
  },
  {
   "cell_type": "markdown",
   "id": "24024595",
   "metadata": {},
   "source": [
    "**TOFPET mean efine corrected**"
   ]
  },
  {
   "cell_type": "code",
   "execution_count": 41,
   "id": "064fa061",
   "metadata": {},
   "outputs": [
    {
     "name": "stdout",
     "output_type": "stream",
     "text": [
      "The TOFPET mean efine corrected read is:  3749.9868769185055\n"
     ]
    }
   ],
   "source": [
    "sensor_id_efine_corr_mean = df_filtered.groupby('sensor_id')['efine_corrected'].mean().reset_index()\n",
    "tofpet_mean_efine_correct = sensor_id_efine_corr_mean['efine_corrected'].sum()\n",
    "print('The TOFPET mean efine corrected read is: ',tofpet_mean_efine_correct)"
   ]
  }
 ],
 "metadata": {
  "kernelspec": {
   "display_name": "Python 3",
   "language": "python",
   "name": "python3"
  },
  "language_info": {
   "codemirror_mode": {
    "name": "ipython",
    "version": 3
   },
   "file_extension": ".py",
   "mimetype": "text/x-python",
   "name": "python",
   "nbconvert_exporter": "python",
   "pygments_lexer": "ipython3",
   "version": "3.8.5"
  }
 },
 "nbformat": 4,
 "nbformat_minor": 5
}
