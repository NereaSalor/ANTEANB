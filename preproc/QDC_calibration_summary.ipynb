{
 "cells": [
  {
   "cell_type": "markdown",
   "id": "510e438d",
   "metadata": {},
   "source": [
    "# QDC CALIBRATION"
   ]
  },
  {
   "cell_type": "code",
   "execution_count": 201,
   "id": "411d7b4f",
   "metadata": {},
   "outputs": [],
   "source": [
    "import pandas as pd\n",
    "import numpy as np\n",
    "from glob import glob\n",
    "import matplotlib.pylab as plt\n",
    "%matplotlib inline\n",
    "import os"
   ]
  },
  {
   "cell_type": "code",
   "execution_count": 202,
   "id": "50803c5a",
   "metadata": {},
   "outputs": [],
   "source": [
    "import sys \n",
    "sys.path.append(\"/home/nsalor/Software/ANTEA\")"
   ]
  },
  {
   "cell_type": "code",
   "execution_count": 203,
   "id": "9f364590",
   "metadata": {},
   "outputs": [],
   "source": [
    "from antea.preproc.io              import get_files\n",
    "from antea.preproc.io              import read_run_data\n",
    "from antea.preproc.tdc_corrections import compute_integration_window_size\n",
    "from antea.preproc.qdc_corrections import correct_efine_wrap_around\n",
    "from antea.preproc.qdc_calibration import compute_qdc_calibration_using_mode\n",
    "from antea.preproc.qdc_calibration import plot_all_channels\n",
    "from antea.preproc.qdc_calibration import process_qdc_calibration_run"
   ]
  },
  {
   "cell_type": "markdown",
   "id": "7daef580",
   "metadata": {},
   "source": [
    "# Process data"
   ]
  },
  {
   "cell_type": "code",
   "execution_count": 204,
   "id": "5967bb4f",
   "metadata": {},
   "outputs": [],
   "source": [
    "run_number = 12384"
   ]
  },
  {
   "cell_type": "code",
   "execution_count": 214,
   "id": "9785964e",
   "metadata": {},
   "outputs": [
    {
     "data": {
      "text/html": [
       "<div>\n",
       "<style scoped>\n",
       "    .dataframe tbody tr th:only-of-type {\n",
       "        vertical-align: middle;\n",
       "    }\n",
       "\n",
       "    .dataframe tbody tr th {\n",
       "        vertical-align: top;\n",
       "    }\n",
       "\n",
       "    .dataframe thead th {\n",
       "        text-align: right;\n",
       "    }\n",
       "</style>\n",
       "<table border=\"1\" class=\"dataframe\">\n",
       "  <thead>\n",
       "    <tr style=\"text-align: right;\">\n",
       "      <th></th>\n",
       "      <th>evt_number</th>\n",
       "      <th>ctdaq</th>\n",
       "      <th>ct_data</th>\n",
       "      <th>card_id</th>\n",
       "      <th>tofpet_id</th>\n",
       "      <th>wordtype_id</th>\n",
       "      <th>channel_id</th>\n",
       "      <th>sensor_id</th>\n",
       "      <th>tac_id</th>\n",
       "      <th>tcoarse</th>\n",
       "      <th>ecoarse</th>\n",
       "      <th>tfine</th>\n",
       "      <th>efine</th>\n",
       "    </tr>\n",
       "  </thead>\n",
       "  <tbody>\n",
       "    <tr>\n",
       "      <th>0</th>\n",
       "      <td>1</td>\n",
       "      <td>38148891</td>\n",
       "      <td>6</td>\n",
       "      <td>0</td>\n",
       "      <td>7</td>\n",
       "      <td>2</td>\n",
       "      <td>0</td>\n",
       "      <td>-1</td>\n",
       "      <td>1</td>\n",
       "      <td>6360</td>\n",
       "      <td>219</td>\n",
       "      <td>246</td>\n",
       "      <td>1010</td>\n",
       "    </tr>\n",
       "    <tr>\n",
       "      <th>1</th>\n",
       "      <td>2</td>\n",
       "      <td>38155971</td>\n",
       "      <td>6</td>\n",
       "      <td>0</td>\n",
       "      <td>7</td>\n",
       "      <td>2</td>\n",
       "      <td>0</td>\n",
       "      <td>-1</td>\n",
       "      <td>2</td>\n",
       "      <td>13386</td>\n",
       "      <td>77</td>\n",
       "      <td>316</td>\n",
       "      <td>1010</td>\n",
       "    </tr>\n",
       "    <tr>\n",
       "      <th>2</th>\n",
       "      <td>2</td>\n",
       "      <td>38155971</td>\n",
       "      <td>6</td>\n",
       "      <td>0</td>\n",
       "      <td>7</td>\n",
       "      <td>2</td>\n",
       "      <td>0</td>\n",
       "      <td>-1</td>\n",
       "      <td>3</td>\n",
       "      <td>20412</td>\n",
       "      <td>959</td>\n",
       "      <td>314</td>\n",
       "      <td>1010</td>\n",
       "    </tr>\n",
       "    <tr>\n",
       "      <th>3</th>\n",
       "      <td>2</td>\n",
       "      <td>38155971</td>\n",
       "      <td>6</td>\n",
       "      <td>0</td>\n",
       "      <td>7</td>\n",
       "      <td>2</td>\n",
       "      <td>0</td>\n",
       "      <td>-1</td>\n",
       "      <td>0</td>\n",
       "      <td>27438</td>\n",
       "      <td>817</td>\n",
       "      <td>328</td>\n",
       "      <td>1010</td>\n",
       "    </tr>\n",
       "    <tr>\n",
       "      <th>4</th>\n",
       "      <td>2</td>\n",
       "      <td>38155971</td>\n",
       "      <td>6</td>\n",
       "      <td>0</td>\n",
       "      <td>7</td>\n",
       "      <td>2</td>\n",
       "      <td>0</td>\n",
       "      <td>-1</td>\n",
       "      <td>1</td>\n",
       "      <td>34464</td>\n",
       "      <td>675</td>\n",
       "      <td>317</td>\n",
       "      <td>1010</td>\n",
       "    </tr>\n",
       "    <tr>\n",
       "      <th>...</th>\n",
       "      <td>...</td>\n",
       "      <td>...</td>\n",
       "      <td>...</td>\n",
       "      <td>...</td>\n",
       "      <td>...</td>\n",
       "      <td>...</td>\n",
       "      <td>...</td>\n",
       "      <td>...</td>\n",
       "      <td>...</td>\n",
       "      <td>...</td>\n",
       "      <td>...</td>\n",
       "      <td>...</td>\n",
       "      <td>...</td>\n",
       "    </tr>\n",
       "    <tr>\n",
       "      <th>9995</th>\n",
       "      <td>336</td>\n",
       "      <td>108198172</td>\n",
       "      <td>21</td>\n",
       "      <td>0</td>\n",
       "      <td>7</td>\n",
       "      <td>2</td>\n",
       "      <td>0</td>\n",
       "      <td>-1</td>\n",
       "      <td>0</td>\n",
       "      <td>42174</td>\n",
       "      <td>193</td>\n",
       "      <td>329</td>\n",
       "      <td>1010</td>\n",
       "    </tr>\n",
       "    <tr>\n",
       "      <th>9996</th>\n",
       "      <td>336</td>\n",
       "      <td>108198172</td>\n",
       "      <td>21</td>\n",
       "      <td>0</td>\n",
       "      <td>7</td>\n",
       "      <td>2</td>\n",
       "      <td>0</td>\n",
       "      <td>-1</td>\n",
       "      <td>1</td>\n",
       "      <td>49200</td>\n",
       "      <td>51</td>\n",
       "      <td>314</td>\n",
       "      <td>1010</td>\n",
       "    </tr>\n",
       "    <tr>\n",
       "      <th>9997</th>\n",
       "      <td>336</td>\n",
       "      <td>108198172</td>\n",
       "      <td>21</td>\n",
       "      <td>0</td>\n",
       "      <td>7</td>\n",
       "      <td>2</td>\n",
       "      <td>0</td>\n",
       "      <td>-1</td>\n",
       "      <td>2</td>\n",
       "      <td>56226</td>\n",
       "      <td>933</td>\n",
       "      <td>315</td>\n",
       "      <td>1010</td>\n",
       "    </tr>\n",
       "    <tr>\n",
       "      <th>9998</th>\n",
       "      <td>336</td>\n",
       "      <td>108198172</td>\n",
       "      <td>21</td>\n",
       "      <td>0</td>\n",
       "      <td>7</td>\n",
       "      <td>2</td>\n",
       "      <td>0</td>\n",
       "      <td>-1</td>\n",
       "      <td>3</td>\n",
       "      <td>63252</td>\n",
       "      <td>791</td>\n",
       "      <td>311</td>\n",
       "      <td>1010</td>\n",
       "    </tr>\n",
       "    <tr>\n",
       "      <th>9999</th>\n",
       "      <td>336</td>\n",
       "      <td>108198172</td>\n",
       "      <td>22</td>\n",
       "      <td>0</td>\n",
       "      <td>7</td>\n",
       "      <td>2</td>\n",
       "      <td>0</td>\n",
       "      <td>-1</td>\n",
       "      <td>0</td>\n",
       "      <td>4742</td>\n",
       "      <td>649</td>\n",
       "      <td>329</td>\n",
       "      <td>1010</td>\n",
       "    </tr>\n",
       "  </tbody>\n",
       "</table>\n",
       "<p>10000 rows × 13 columns</p>\n",
       "</div>"
      ],
      "text/plain": [
       "      evt_number      ctdaq  ct_data  card_id  tofpet_id  wordtype_id  \\\n",
       "0              1   38148891        6        0          7            2   \n",
       "1              2   38155971        6        0          7            2   \n",
       "2              2   38155971        6        0          7            2   \n",
       "3              2   38155971        6        0          7            2   \n",
       "4              2   38155971        6        0          7            2   \n",
       "...          ...        ...      ...      ...        ...          ...   \n",
       "9995         336  108198172       21        0          7            2   \n",
       "9996         336  108198172       21        0          7            2   \n",
       "9997         336  108198172       21        0          7            2   \n",
       "9998         336  108198172       21        0          7            2   \n",
       "9999         336  108198172       22        0          7            2   \n",
       "\n",
       "      channel_id  sensor_id  tac_id  tcoarse  ecoarse  tfine  efine  \n",
       "0              0         -1       1     6360      219    246   1010  \n",
       "1              0         -1       2    13386       77    316   1010  \n",
       "2              0         -1       3    20412      959    314   1010  \n",
       "3              0         -1       0    27438      817    328   1010  \n",
       "4              0         -1       1    34464      675    317   1010  \n",
       "...          ...        ...     ...      ...      ...    ...    ...  \n",
       "9995           0         -1       0    42174      193    329   1010  \n",
       "9996           0         -1       1    49200       51    314   1010  \n",
       "9997           0         -1       2    56226      933    315   1010  \n",
       "9998           0         -1       3    63252      791    311   1010  \n",
       "9999           0         -1       0     4742      649    329   1010  \n",
       "\n",
       "[10000 rows x 13 columns]"
      ]
     },
     "execution_count": 214,
     "metadata": {},
     "output_type": "execute_result"
    }
   ],
   "source": [
    "pd.read_hdf('/analysis/12384/hdf5/data/run_12384_0000_trigger1_waveforms.h5', 'data', stop = 10000)"
   ]
  },
  {
   "cell_type": "code",
   "execution_count": 206,
   "id": "ffdf965e",
   "metadata": {},
   "outputs": [
    {
     "data": {
      "text/html": [
       "<div>\n",
       "<style scoped>\n",
       "    .dataframe tbody tr th:only-of-type {\n",
       "        vertical-align: middle;\n",
       "    }\n",
       "\n",
       "    .dataframe tbody tr th {\n",
       "        vertical-align: top;\n",
       "    }\n",
       "\n",
       "    .dataframe thead th {\n",
       "        text-align: right;\n",
       "    }\n",
       "</style>\n",
       "<table border=\"1\" class=\"dataframe\">\n",
       "  <thead>\n",
       "    <tr style=\"text-align: right;\">\n",
       "      <th></th>\n",
       "      <th>tofpet_id</th>\n",
       "      <th>channel_id</th>\n",
       "      <th>tac_id</th>\n",
       "      <th>intg_w</th>\n",
       "      <th>efine</th>\n",
       "    </tr>\n",
       "  </thead>\n",
       "  <tbody>\n",
       "    <tr>\n",
       "      <th>0</th>\n",
       "      <td>7</td>\n",
       "      <td>0</td>\n",
       "      <td>0</td>\n",
       "      <td>0</td>\n",
       "      <td>0</td>\n",
       "    </tr>\n",
       "    <tr>\n",
       "      <th>1</th>\n",
       "      <td>7</td>\n",
       "      <td>0</td>\n",
       "      <td>0</td>\n",
       "      <td>6</td>\n",
       "      <td>0</td>\n",
       "    </tr>\n",
       "    <tr>\n",
       "      <th>2</th>\n",
       "      <td>7</td>\n",
       "      <td>0</td>\n",
       "      <td>0</td>\n",
       "      <td>11</td>\n",
       "      <td>0</td>\n",
       "    </tr>\n",
       "    <tr>\n",
       "      <th>3</th>\n",
       "      <td>7</td>\n",
       "      <td>0</td>\n",
       "      <td>0</td>\n",
       "      <td>16</td>\n",
       "      <td>0</td>\n",
       "    </tr>\n",
       "    <tr>\n",
       "      <th>4</th>\n",
       "      <td>7</td>\n",
       "      <td>0</td>\n",
       "      <td>0</td>\n",
       "      <td>21</td>\n",
       "      <td>0</td>\n",
       "    </tr>\n",
       "    <tr>\n",
       "      <th>...</th>\n",
       "      <td>...</td>\n",
       "      <td>...</td>\n",
       "      <td>...</td>\n",
       "      <td>...</td>\n",
       "      <td>...</td>\n",
       "    </tr>\n",
       "    <tr>\n",
       "      <th>21533</th>\n",
       "      <td>7</td>\n",
       "      <td>63</td>\n",
       "      <td>3</td>\n",
       "      <td>396</td>\n",
       "      <td>694</td>\n",
       "    </tr>\n",
       "    <tr>\n",
       "      <th>21534</th>\n",
       "      <td>7</td>\n",
       "      <td>63</td>\n",
       "      <td>3</td>\n",
       "      <td>401</td>\n",
       "      <td>694</td>\n",
       "    </tr>\n",
       "    <tr>\n",
       "      <th>21535</th>\n",
       "      <td>7</td>\n",
       "      <td>63</td>\n",
       "      <td>3</td>\n",
       "      <td>406</td>\n",
       "      <td>695</td>\n",
       "    </tr>\n",
       "    <tr>\n",
       "      <th>21536</th>\n",
       "      <td>7</td>\n",
       "      <td>63</td>\n",
       "      <td>3</td>\n",
       "      <td>411</td>\n",
       "      <td>695</td>\n",
       "    </tr>\n",
       "    <tr>\n",
       "      <th>21537</th>\n",
       "      <td>7</td>\n",
       "      <td>63</td>\n",
       "      <td>3</td>\n",
       "      <td>2000</td>\n",
       "      <td>695</td>\n",
       "    </tr>\n",
       "  </tbody>\n",
       "</table>\n",
       "<p>21538 rows × 5 columns</p>\n",
       "</div>"
      ],
      "text/plain": [
       "       tofpet_id  channel_id  tac_id  intg_w  efine\n",
       "0              7           0       0       0      0\n",
       "1              7           0       0       6      0\n",
       "2              7           0       0      11      0\n",
       "3              7           0       0      16      0\n",
       "4              7           0       0      21      0\n",
       "...          ...         ...     ...     ...    ...\n",
       "21533          7          63       3     396    694\n",
       "21534          7          63       3     401    694\n",
       "21535          7          63       3     406    695\n",
       "21536          7          63       3     411    695\n",
       "21537          7          63       3    2000    695\n",
       "\n",
       "[21538 rows x 5 columns]"
      ]
     },
     "execution_count": 206,
     "metadata": {},
     "output_type": "execute_result"
    },
    {
     "data": {
      "image/png": "[encoded data removed]",
      "text/plain": [
       "<Figure size 432x288 with 1 Axes>"
      ]
     },
     "metadata": {
      "needs_background": "light"
     },
     "output_type": "display_data"
    },
    {
     "data": {
      "image/png": "[encoded data removed]",
      "text/plain": [
       "<Figure size 432x288 with 1 Axes>"
      ]
     },
     "metadata": {
      "needs_background": "light"
     },
     "output_type": "display_data"
    }
   ],
   "source": [
    "df_qdc = process_qdc_calibration_run(run_number, max_intg_w = 416)\n",
    "df_qdc"
   ]
  },
  {
   "cell_type": "markdown",
   "id": "34cc1e82",
   "metadata": {},
   "source": [
    "**Create the expected windows to filter wrong values**"
   ]
  },
  {
   "cell_type": "code",
   "execution_count": 207,
   "id": "30ea259b",
   "metadata": {},
   "outputs": [
    {
     "data": {
      "text/plain": [
       "array([   0,    6,   11,   16,   21,   26,   31,   36,   41,   46,   51,\n",
       "         56,   61,   66,   71,   76,   81,   86,   91,   96,  101,  106,\n",
       "        111,  116,  121,  126,  131,  136,  141,  146,  151,  156,  161,\n",
       "        166,  171,  176,  181,  186,  191,  196,  201,  206,  211,  216,\n",
       "        221,  226,  231,  236,  241,  246,  251,  256,  261,  266,  271,\n",
       "        276,  281,  286,  291,  296,  301,  306,  311,  316,  321,  326,\n",
       "        331,  336,  341,  346,  351,  356,  361,  366,  371,  376,  381,\n",
       "        386,  391,  396,  401,  406,  411, 2000])"
      ]
     },
     "execution_count": 207,
     "metadata": {},
     "output_type": "execute_result"
    }
   ],
   "source": [
    "expected_windows = np.concatenate([[0], np.arange(6, 416, 5), [2000]])\n",
    "expected_windows"
   ]
  },
  {
   "cell_type": "code",
   "execution_count": 208,
   "id": "e197974c",
   "metadata": {},
   "outputs": [],
   "source": [
    "df_filtered = df_qdc[df_qdc.intg_w.isin(expected_windows)]"
   ]
  },
  {
   "cell_type": "markdown",
   "id": "4b891946",
   "metadata": {},
   "source": [
    "**Check max and min integration window size for each channel and tac to avoid wrong interpolations**"
   ]
  },
  {
   "cell_type": "code",
   "execution_count": 209,
   "id": "17284980",
   "metadata": {},
   "outputs": [
    {
     "data": {
      "text/plain": [
       "array([0])"
      ]
     },
     "execution_count": 209,
     "metadata": {},
     "output_type": "execute_result"
    }
   ],
   "source": [
    "df_filtered.groupby(['channel_id', 'tac_id']).min().intg_w.unique()"
   ]
  },
  {
   "cell_type": "code",
   "execution_count": 210,
   "id": "fab9689f",
   "metadata": {},
   "outputs": [
    {
     "data": {
      "text/plain": [
       "array([2000])"
      ]
     },
     "execution_count": 210,
     "metadata": {},
     "output_type": "execute_result"
    }
   ],
   "source": [
    "df_filtered.groupby(['channel_id', 'tac_id']).max().intg_w.unique()"
   ]
  },
  {
   "cell_type": "code",
   "execution_count": 211,
   "id": "24d489dc",
   "metadata": {},
   "outputs": [
    {
     "data": {
      "text/plain": [
       "([<matplotlib.axis.XTick at 0x7fc09e98b670>,\n",
       "  <matplotlib.axis.XTick at 0x7fc09e98b7c0>,\n",
       "  <matplotlib.axis.XTick at 0x7fc09e99bbe0>,\n",
       "  <matplotlib.axis.XTick at 0x7fc09e8fe340>,\n",
       "  <matplotlib.axis.XTick at 0x7fc09e8fe280>,\n",
       "  <matplotlib.axis.XTick at 0x7fc09e270b20>,\n",
       "  <matplotlib.axis.XTick at 0x7fc09e270cd0>,\n",
       "  <matplotlib.axis.XTick at 0x7fc09e816220>,\n",
       "  <matplotlib.axis.XTick at 0x7fc09e816730>,\n",
       "  <matplotlib.axis.XTick at 0x7fc09e816c40>,\n",
       "  <matplotlib.axis.XTick at 0x7fc09e808190>,\n",
       "  <matplotlib.axis.XTick at 0x7fc09e8086a0>,\n",
       "  <matplotlib.axis.XTick at 0x7fc09e808bb0>,\n",
       "  <matplotlib.axis.XTick at 0x7fc09e816370>,\n",
       "  <matplotlib.axis.XTick at 0x7fc09e8fef40>,\n",
       "  <matplotlib.axis.XTick at 0x7fc09e808700>,\n",
       "  <matplotlib.axis.XTick at 0x7fc09e830100>,\n",
       "  <matplotlib.axis.XTick at 0x7fc09e830610>,\n",
       "  <matplotlib.axis.XTick at 0x7fc09e830b20>,\n",
       "  <matplotlib.axis.XTick at 0x7fc09e827070>,\n",
       "  <matplotlib.axis.XTick at 0x7fc09e827580>],\n",
       " [Text(0, 0, ''),\n",
       "  Text(0, 0, ''),\n",
       "  Text(0, 0, ''),\n",
       "  Text(0, 0, ''),\n",
       "  Text(0, 0, ''),\n",
       "  Text(0, 0, ''),\n",
       "  Text(0, 0, ''),\n",
       "  Text(0, 0, ''),\n",
       "  Text(0, 0, ''),\n",
       "  Text(0, 0, ''),\n",
       "  Text(0, 0, ''),\n",
       "  Text(0, 0, ''),\n",
       "  Text(0, 0, ''),\n",
       "  Text(0, 0, ''),\n",
       "  Text(0, 0, ''),\n",
       "  Text(0, 0, ''),\n",
       "  Text(0, 0, ''),\n",
       "  Text(0, 0, ''),\n",
       "  Text(0, 0, ''),\n",
       "  Text(0, 0, ''),\n",
       "  Text(0, 0, '')])"
      ]
     },
     "execution_count": 211,
     "metadata": {},
     "output_type": "execute_result"
    },
    {
     "data": {
      "image/png": "[encoded data removed]",
      "text/plain": [
       "<Figure size 432x288 with 1 Axes>"
      ]
     },
     "metadata": {
      "needs_background": "light"
     },
     "output_type": "display_data"
    }
   ],
   "source": [
    "plt.figure()\n",
    "plot_all_channels(df_filtered, [0, 220])\n",
    "plt.xlabel('intg_w')\n",
    "plt.ylabel('efine corrected')\n",
    "plt.grid()\n",
    "plt.xticks(np.linspace(0, 300, 21), rotation = 30)"
   ]
  },
  {
   "cell_type": "code",
   "execution_count": 212,
   "id": "32f1b70b",
   "metadata": {},
   "outputs": [
    {
     "data": {
      "image/png": "[encoded data removed]",
      "text/plain": [
       "<Figure size 432x288 with 1 Axes>"
      ]
     },
     "metadata": {
      "needs_background": "light"
     },
     "output_type": "display_data"
    }
   ],
   "source": [
    "plt.figure()\n",
    "df_ch7 = df_filtered[(df_filtered['channel_id'] == 41)]\n",
    "plt.plot(df_ch7[df_ch7['tac_id'] == 0].intg_w, df_ch7[df_ch7['tac_id'] == 0].efine, label = 'tac0')\n",
    "plt.plot(df_ch7[df_ch7['tac_id'] == 1].intg_w, df_ch7[df_ch7['tac_id'] == 1].efine, label = 'tac1')\n",
    "plt.plot(df_ch7[df_ch7['tac_id'] == 2].intg_w, df_ch7[df_ch7['tac_id'] == 2].efine, label = 'tac2')\n",
    "plt.plot(df_ch7[df_ch7['tac_id'] == 3].intg_w, df_ch7[df_ch7['tac_id'] == 3].efine, label = 'tac3')\n",
    "#plt.xlim(0, 300)\n",
    "\n",
    "plt.xlabel('intg_w')\n",
    "plt.ylabel('efine')\n",
    "plt.grid()"
   ]
  },
  {
   "cell_type": "markdown",
   "id": "b4e8a42a",
   "metadata": {},
   "source": [
    "**Save data in file**"
   ]
  },
  {
   "cell_type": "code",
   "execution_count": 213,
   "id": "87a2fd6c",
   "metadata": {},
   "outputs": [],
   "source": [
    "#df_filtered.to_hdf('qdc_calibration_cold_compressor_asic581_tofpet7_imirror25_version33_r12384.h5', 'data')"
   ]
  },
  {
   "cell_type": "code",
   "execution_count": null,
   "id": "ec748269",
   "metadata": {},
   "outputs": [],
   "source": []
  }
 ],
 "metadata": {
  "kernelspec": {
   "display_name": "Python 3",
   "language": "python",
   "name": "python3"
  },
  "language_info": {
   "codemirror_mode": {
    "name": "ipython",
    "version": 3
   },
   "file_extension": ".py",
   "mimetype": "text/x-python",
   "name": "python",
   "nbconvert_exporter": "python",
   "pygments_lexer": "ipython3",
   "version": "3.8.5"
  }
 },
 "nbformat": 4,
 "nbformat_minor": 5
}
